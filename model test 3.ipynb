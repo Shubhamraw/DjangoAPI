{
 "cells": [
  {
   "cell_type": "code",
   "execution_count": 1,
   "id": "ranging-grave",
   "metadata": {},
   "outputs": [],
   "source": [
    "import pandas as pd\n",
    "from tensorflow.keras.models import load_model\n",
    "from sklearn.preprocessing import MinMaxScaler\n",
    "from collections import Counter"
   ]
  },
  {
   "cell_type": "code",
   "execution_count": 2,
   "id": "editorial-offset",
   "metadata": {},
   "outputs": [],
   "source": [
    "mdl = load_model('loan_model.h5')"
   ]
  },
  {
   "cell_type": "code",
   "execution_count": 3,
   "id": "handmade-steal",
   "metadata": {},
   "outputs": [],
   "source": [
    "df = pd.read_csv('bankloan.csv')\n",
    "df = df.dropna()\n",
    "df = df.drop('Loan_ID', axis=1)\n",
    "df['LoanAmount'] = (df['LoanAmount']*1000).astype(int)\n",
    "y_pre = df['Loan_Status']\n",
    "X_pre = df.drop('Loan_Status', axis=1)\n",
    "dm_X = pd.get_dummies(X_pre)\n",
    "dm_y = y_pre.map(dict(Y=1, N=0))"
   ]
  },
  {
   "cell_type": "code",
   "execution_count": 4,
   "id": "latest-indiana",
   "metadata": {},
   "outputs": [],
   "source": [
    "unit = {\n",
    "    \"Dependents\": 2,\n",
    "    \"ApplicantIncome\": 2500, \n",
    "    \"CoapplicantIncome\": 1840,\n",
    "    \"LoanAmount\": 109,\n",
    "    \"Loan_Amount_Term\": 360, \n",
    "    \"Credit_History\" : 1, \n",
    "    \"Gender_Female\": 0, \n",
    "    \"Gender_Male\": 1,\n",
    "    \"Married_No\": 0, \n",
    "    \"Married_Yes\": 1, \n",
    "    \"Education_Graduate\": 1,\n",
    "    \"Education_Not Graduate\": 0, \n",
    "    \"Self_Employed_No\": 1, \n",
    "    \"Self_Employed_Yes\": 0,\n",
    "    \"Property_Area_Rural\": 0, \n",
    "    \"Property_Area_Semiurban\": 0,\n",
    "    \"Property_Area_Urban\": 1\n",
    "}"
   ]
  },
  {
   "cell_type": "code",
   "execution_count": 5,
   "id": "collective-advancement",
   "metadata": {},
   "outputs": [
    {
     "ename": "UnicodeDecodeError",
     "evalue": "'ascii' codec can't decode byte 0xd5 in position 4: ordinal not in range(128)",
     "output_type": "error",
     "traceback": [
      "\u001b[0;31m---------------------------------------------------------------------------\u001b[0m",
      "\u001b[0;31mUnicodeDecodeError\u001b[0m                        Traceback (most recent call last)",
      "\u001b[0;32m<ipython-input-5-9451b70954b3>\u001b[0m in \u001b[0;36m<module>\u001b[0;34m\u001b[0m\n\u001b[1;32m      1\u001b[0m \u001b[0;32mfrom\u001b[0m \u001b[0mpickle\u001b[0m \u001b[0;32mimport\u001b[0m \u001b[0mload\u001b[0m\u001b[0;34m\u001b[0m\u001b[0;34m\u001b[0m\u001b[0m\n\u001b[0;32m----> 2\u001b[0;31m \u001b[0mscaler\u001b[0m \u001b[0;34m=\u001b[0m \u001b[0mload\u001b[0m\u001b[0;34m(\u001b[0m\u001b[0mopen\u001b[0m\u001b[0;34m(\u001b[0m\u001b[0;34m'scalers.pkl'\u001b[0m\u001b[0;34m,\u001b[0m \u001b[0;34m'rb'\u001b[0m\u001b[0;34m)\u001b[0m\u001b[0;34m)\u001b[0m\u001b[0;34m\u001b[0m\u001b[0;34m\u001b[0m\u001b[0m\n\u001b[0m",
      "\u001b[0;31mUnicodeDecodeError\u001b[0m: 'ascii' codec can't decode byte 0xd5 in position 4: ordinal not in range(128)"
     ]
    }
   ],
   "source": [
    "from pickle import load\n",
    "scaler = load(open('scalers.pkl', 'rb'))"
   ]
  },
  {
   "cell_type": "code",
   "execution_count": null,
   "id": "loved-sword",
   "metadata": {},
   "outputs": [],
   "source": [
    "import numpy as np\n",
    "n_unit = np.array(list(unit.values()))\n",
    "n_unit = n_unit.reshape(1,-1)\n",
    "X = scaler.transform(n_unit)\n",
    "y_pred = mdl.predict(X)\n",
    "y_pred"
   ]
  },
  {
   "cell_type": "code",
   "execution_count": null,
   "id": "shared-rebecca",
   "metadata": {},
   "outputs": [],
   "source": []
  },
  {
   "cell_type": "code",
   "execution_count": null,
   "id": "narrow-price",
   "metadata": {},
   "outputs": [],
   "source": []
  },
  {
   "cell_type": "code",
   "execution_count": null,
   "id": "minor-track",
   "metadata": {},
   "outputs": [],
   "source": []
  },
  {
   "cell_type": "code",
   "execution_count": null,
   "id": "rising-coaching",
   "metadata": {},
   "outputs": [],
   "source": []
  }
 ],
 "metadata": {
  "kernelspec": {
   "display_name": "Python 3",
   "language": "python",
   "name": "python3"
  },
  "language_info": {
   "codemirror_mode": {
    "name": "ipython",
    "version": 3
   },
   "file_extension": ".py",
   "mimetype": "text/x-python",
   "name": "python",
   "nbconvert_exporter": "python",
   "pygments_lexer": "ipython3",
   "version": "3.8.8"
  }
 },
 "nbformat": 4,
 "nbformat_minor": 5
}
