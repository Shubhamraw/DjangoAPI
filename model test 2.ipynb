{
 "cells": [
  {
   "cell_type": "code",
   "execution_count": 1,
   "id": "metric-banana",
   "metadata": {},
   "outputs": [],
   "source": [
    "import pandas as pd\n",
    "from tensorflow.keras.models import load_model\n",
    "from sklearn.preprocessing import MinMaxScaler\n",
    "from collections import Counter"
   ]
  },
  {
   "cell_type": "code",
   "execution_count": 2,
   "id": "further-industry",
   "metadata": {},
   "outputs": [],
   "source": [
    "mdl = load_model('loan_model.h5')"
   ]
  },
  {
   "cell_type": "code",
   "execution_count": 3,
   "id": "saved-navigation",
   "metadata": {},
   "outputs": [],
   "source": [
    "df = pd.read_csv('bankloan.csv')\n",
    "df = df.dropna()\n",
    "df = df.drop('Loan_ID', axis=1)\n",
    "df['LoanAmount'] = (df['LoanAmount']*1000).astype(int)\n",
    "y_pre = df['Loan_Status']\n",
    "X_pre = df.drop('Loan_Status', axis=1)\n",
    "dm_X = pd.get_dummies(X_pre)\n",
    "dm_y = y_pre.map(dict(Y=1, N=0))"
   ]
  },
  {
   "cell_type": "code",
   "execution_count": 4,
   "id": "moved-oasis",
   "metadata": {},
   "outputs": [],
   "source": [
    "unit = {\n",
    "    \"Dependents\": 2,\n",
    "    \"ApplicantIncome\": 2500, \n",
    "    \"CoapplicantIncome\": 1840,\n",
    "    \"LoanAmount\": 109,\n",
    "    \"Loan_Amount_Term\": 360, \n",
    "    \"Credit_History\" : 1, \n",
    "    \"Gender_Female\": 0, \n",
    "    \"Gender_Male\": 1,\n",
    "    \"Married_No\": 0, \n",
    "    \"Married_Yes\": 1, \n",
    "    \"Education_Graduate\": 1,\n",
    "    \"Education_Not Graduate\": 0, \n",
    "    \"Self_Employed_No\": 1, \n",
    "    \"Self_Employed_Yes\": 0,\n",
    "    \"Property_Area_Rural\": 0, \n",
    "    \"Property_Area_Semiurban\": 0,\n",
    "    \"Property_Area_Urban\": 1\n",
    "}"
   ]
  },
  {
   "cell_type": "code",
   "execution_count": 7,
   "id": "funky-miniature",
   "metadata": {},
   "outputs": [],
   "source": [
    "from imblearn.over_sampling import SMOTE\n",
    "import joblib as jb\n",
    "\n",
    "smote = SMOTE(sampling_strategy='auto')\n",
    "X1, y = smote.fit_resample(dm_X,dm_y)\n",
    "sc = MinMaxScaler()\n",
    "X = sc.fit(X1)"
   ]
  },
  {
   "cell_type": "code",
   "execution_count": 8,
   "id": "waiting-world",
   "metadata": {},
   "outputs": [],
   "source": [
    "import numpy as np\n",
    "n_unit = np.array(list(unit.values()))\n",
    "n_unit = n_unit.reshape(1,-1)\n",
    "X = sc.transform(n_unit)\n",
    "y_pred = mdl.predict(X)"
   ]
  },
  {
   "cell_type": "code",
   "execution_count": 9,
   "id": "framed-bumper",
   "metadata": {},
   "outputs": [
    {
     "data": {
      "text/plain": [
       "array([[0.82193655]], dtype=float32)"
      ]
     },
     "execution_count": 9,
     "metadata": {},
     "output_type": "execute_result"
    }
   ],
   "source": [
    "y_pred"
   ]
  },
  {
   "cell_type": "code",
   "execution_count": 10,
   "id": "published-medline",
   "metadata": {},
   "outputs": [],
   "source": [
    "from pickle import dump\n",
    "dump(sc, open('scaler.pkl', 'wb'))"
   ]
  },
  {
   "cell_type": "code",
   "execution_count": null,
   "id": "covered-deposit",
   "metadata": {},
   "outputs": [],
   "source": []
  }
 ],
 "metadata": {
  "kernelspec": {
   "display_name": "Python 3",
   "language": "python",
   "name": "python3"
  },
  "language_info": {
   "codemirror_mode": {
    "name": "ipython",
    "version": 3
   },
   "file_extension": ".py",
   "mimetype": "text/x-python",
   "name": "python",
   "nbconvert_exporter": "python",
   "pygments_lexer": "ipython3",
   "version": "3.8.8"
  }
 },
 "nbformat": 4,
 "nbformat_minor": 5
}
